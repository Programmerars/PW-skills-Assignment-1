{
 "cells": [
  {
   "cell_type": "markdown",
   "id": "db66c993-d38c-44d1-b983-772deae06dde",
   "metadata": {},
   "source": [
    "Q1. Write all the conventions being followed while declaring a variable."
   ]
  },
  {
   "cell_type": "markdown",
   "id": "f6cc3e79-b334-4e25-9959-f6a078ccc37b",
   "metadata": {},
   "source": [
    "1.Variable names should start with a letter (a-z, A-Z) or an underscore (_). They can also include numbers (0-9) but should not start with a number.\n",
    "\n",
    "2.Variable names are case-sensitive, so my_variable and My_Variable are considered different variables.\n",
    "\n",
    "3.Variable names should be descriptive and indicative of the variable's purpose to enhance code readability.\n",
    "\n",
    "4.Variable names should not be reserved keywords in Python, such as if, else, while, for, etc.\n",
    "\n",
    "5.Variable names should not contain spaces, special characters (except underscore), or punctuation marks.\n",
    "\n",
    "6.Variable names should follow the \"snake_case\" convention, where words are separated by underscores. For example: my_variable, counter, user_name.\n",
    "\n",
    "7.Variable names should be kept reasonably short, yet meaningful, and should not be too abbreviated or cryptic.\n",
    "\n",
    "8.Avoid using single-letter variable names, except for simple loop counters.\n",
    "\n",
    "9.Constants, which are variables whose values should not be changed, are usually written in uppercase with underscores to differentiate them from regular variables. For example: PI, MAX_VALUE, MY_CONSTANT."
   ]
  },
  {
   "cell_type": "markdown",
   "id": "64ac17dd-7546-4031-a428-09f9c4b434d4",
   "metadata": {},
   "source": [
    "Q2. What will happen if we declare a restricted keyword as a variable?"
   ]
  },
  {
   "cell_type": "markdown",
   "id": "168bc771-13aa-4445-9ff5-1f8011090e1f",
   "metadata": {},
   "source": [
    "If you declare a restricted keyword, such as a reserved keyword in Python, as a variable, you will encounter a syntax error. \n",
    "Python reserves certain keywords for specific purposes, and they cannot be used as variable names.\n",
    "If you attempt to use a reserved keyword as a variable, Python will raise a syntax error indicating that the keyword cannot be used as an identifier.\n",
    "\n",
    "For example, if you try to declare a variable with the name \"if\" or \"while\", which \n",
    "are reserved keywords in Python, you will get a syntax error like the following\n",
    "\n",
    "if = 10\n",
    "# SyntaxError: invalid syntax\n",
    "\n",
    "while = 20\n",
    "# SyntaxError: invalid syntax\n",
    "\n",
    "To avoid this error, it's important to choose variable names that do not conflict with reserved keywords in Python. \n",
    "It's recommended to use descriptive and meaningful variable names that follow Python's variable naming conventions to write clean and readable code."
   ]
  },
  {
   "cell_type": "markdown",
   "id": "92dc4f57-1321-4e10-97a9-47e30d2bb90e",
   "metadata": {},
   "source": [
    "Q.3 Can we actually declare a string as a variable name?"
   ]
  },
  {
   "cell_type": "markdown",
   "id": "24cd17e2-dce5-486f-bf4e-c9eb3cf85969",
   "metadata": {},
   "source": [
    "In Python, variable names must follow certain rules and conventions. According to Python's variable naming rules:\n",
    "\n",
    "Variable names must start with a letter (a-z, A-Z) or an underscore (_) character.\n",
    "Variable names can include letters (both uppercase and lowercase), numbers (0-9), and underscores (_).\n",
    "Variable names are case-sensitive, so my_variable and My_Variable are considered different variables.\n",
    "Variable names should not be reserved keywords in Python, such as if, else, while, for, etc.\n",
    "Variable names should not contain spaces, special characters (except underscore), or punctuation marks.\n",
    "Based on these rules, technically it is possible to declare a string as a variable name in Python, as long as the string meets the above criteria. However, it is generally not recommended to use strings as variable names, as it can make the code difficult to read, maintain, and may lead to confusion.\n",
    "\n",
    "For example, the following code is technically valid but not recommended:\n",
    "\n",
    "variable_name = \"Hello\"\n",
    "print(variable_name)\n",
    "# Output: Hello\n",
    "While it is allowed in Python, it is not considered good practice to use strings as variable names. \n",
    "It is generally better to use meaningful and descriptive variable names that follow Python 's variable naming conventions to write clean and readable code."
   ]
  },
  {
   "cell_type": "markdown",
   "id": "f7fdfa44-cd30-4d64-8fca-bd51efff97c1",
   "metadata": {},
   "source": [
    "Q.4 Q4. Is it possible for us to declare “_” as a variable? If so, then write an example of it."
   ]
  },
  {
   "cell_type": "markdown",
   "id": "99791c2d-0007-4cc3-a660-20b1be3cc427",
   "metadata": {},
   "source": [
    "Yes, in Python, it is possible to declare a variable with a name containing an underscore (). The underscore () is a valid character to use in variable names and has a special meaning in certain contexts.\n",
    "\n",
    "For example, you can declare a variable with the name \"_\" as follows:\n",
    "_ = 10\n",
    "print(_)\n",
    "# Output: 10\n",
    "In this example, a variable named \"\" is assigned the value 10, and then the value of the variable is printed. Note that using \"\" as a variable name is allowed in Python, but it is generally not recommended to use a single underscore as a variable name, as it is often used to indicate a temporary or throwaway variable or to represent a special meaning in certain contexts, such as in Python's interpreter as the result of the last executed expression. It is usually better to use more descriptive and meaningful variable names to write clean and readable code."
   ]
  },
  {
   "cell_type": "markdown",
   "id": "904f1ebe-8baf-4c2b-b403-20740fa57cbf",
   "metadata": {},
   "source": [
    "Q.5 Using an example, explain how the variables in python are dynamic in nature."
   ]
  },
  {
   "cell_type": "markdown",
   "id": "5a93c964-d342-487e-a05a-2fbb8f6c0408",
   "metadata": {},
   "source": [
    "In Python, variables are dynamic in nature, which means that their data type can change during runtime.\n",
    "This is in contrast to statically-typed languages where variables are assigned a fixed data type at \n",
    "the time of declaration and cannot be changed thereafter. \n",
    "Let's consider an example to illustrate how variables in Python are dynamic in nature:\n",
    "\n",
    "python: -\n",
    "x = 10  # x is assigned an integer value\n",
    "print(x)  # Output: 10\n",
    "\n",
    "x = \"Hello\"  # x is assigned a string value\n",
    "print(x)  # Output: Hello\n",
    "\n",
    "x = [1, 2, 3]  # x is assigned a list value\n",
    "print(x)  # Output: [1, 2, 3]\n",
    "In this example, we declare a variable x and initially assign it an integer value of 10. We then print the value of x, which is 10. Next, we assign a string value \"Hello\" to the same variable x and print its value, which is now \"Hello\". Finally, we assign a list value [1, 2, 3] to the same variable x and print its value, which is now [1, 2, 3].\n",
    "\n",
    "As you can see, the same variable x is being assigned values of different data types (integer, string, and list) during runtime, and Python allows this dynamic change of variable types without any explicit type declarations. This flexibility makes Python a dynamically-typed language, allowing variables to change their data type during runtime based on the value assigned to them. However, it also requires careful handling of variable types and can sometimes lead to unexpected behavior if not managed properly."
   ]
  },
  {
   "cell_type": "code",
   "execution_count": null,
   "id": "3eaf74d5-2cc8-4a84-8348-4b6d94722a2b",
   "metadata": {},
   "outputs": [],
   "source": []
  }
 ],
 "metadata": {
  "kernelspec": {
   "display_name": "Python 3 (ipykernel)",
   "language": "python",
   "name": "python3"
  },
  "language_info": {
   "codemirror_mode": {
    "name": "ipython",
    "version": 3
   },
   "file_extension": ".py",
   "mimetype": "text/x-python",
   "name": "python",
   "nbconvert_exporter": "python",
   "pygments_lexer": "ipython3",
   "version": "3.10.8"
  }
 },
 "nbformat": 4,
 "nbformat_minor": 5
}
